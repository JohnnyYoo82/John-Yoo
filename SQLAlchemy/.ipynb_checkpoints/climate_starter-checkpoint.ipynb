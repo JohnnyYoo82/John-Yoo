{
 "cells": [
  {
   "cell_type": "code",
   "execution_count": 1,
   "metadata": {
    "collapsed": true
   },
   "outputs": [],
   "source": [
    "#import dependencies\n",
    "import numpy as np\n",
    "import pandas as pd\n",
    "import os\n",
    "\n",
    "import sqlalchemy\n",
    "from sqlalchemy import create_engine, func, inspect\n",
    "from sqlalchemy.ext.declarative import declarative_base\n",
    "from sqlalchemy import Column, Integer, String, Numeric, Text, Float, Date\n",
    "\n",
    "from sqlalchemy.ext.automap import automap_base\n",
    "from sqlalchemy.orm import Session\n",
    "\n",
    "%matplotlib inline\n",
    "from matplotlib import style\n",
    "style.use('fivethirtyeight')\n",
    "import matplotlib.pyplot as plt\n",
    "\n",
    "import datetime as dt\n"
   ]
  },
  {
   "cell_type": "code",
   "execution_count": 2,
   "metadata": {},
   "outputs": [],
   "source": [
    "#get data from csv files and save as df\n",
    "measurements = pd.read_csv(os.path.join('Resources', 'hawaii_measurements.csv'))\n",
    "stations = pd.read_csv(os.path.join('Resources', 'hawaii_stations.csv'))"
   ]
  },
  {
   "cell_type": "code",
   "execution_count": 3,
   "metadata": {},
   "outputs": [],
   "source": [
    "#clean df of nan values if any\n",
    "#measurements.isnull().values.any()\n",
    "#stations.isnull().values.any()\n",
    "measurements = measurements.dropna(axis=0).reset_index(drop=True)"
   ]
  },
  {
   "cell_type": "markdown",
   "metadata": {},
   "source": [
    "# Reflect Tables into SQLAlchemy ORM"
   ]
  },
  {
   "cell_type": "code",
   "execution_count": 4,
   "metadata": {},
   "outputs": [],
   "source": [
    "#Use SQLAlchemy create_engine to connect to your sqlite database.\n",
    "engine = create_engine(\"sqlite:///Resources/hawaii.sqlite\")\n",
    "conn = engine.connect()\n",
    "\n",
    "#Use SQLAlchemy declarative base to model Measurement and Station class\n",
    "base = declarative_base()"
   ]
  },
  {
   "cell_type": "code",
   "execution_count": 5,
   "metadata": {},
   "outputs": [],
   "source": [
    "#create Measurements and Stations class\n",
    "class Measurements(base):\n",
    "    __tablename__='measurements'\n",
    "    id=Column(Integer, primary_key=True)\n",
    "    station=Column(Text)\n",
    "    date=Column(Date)\n",
    "    prcp=Column(Float)\n",
    "    tobs=Column(Float)\n",
    "\n",
    "class Stations(base):\n",
    "    __tablename__='stations'\n",
    "    id=Column(Integer, primary_key=True)\n",
    "    name=Column(Text)\n",
    "    station=Column(Text)\n",
    "    latitude=Column(Float)\n",
    "    longitude=Column(Float)\n",
    "    elevation=Column(Float)\n",
    "    "
   ]
  },
  {
   "cell_type": "code",
   "execution_count": 6,
   "metadata": {},
   "outputs": [],
   "source": [
    "#add metadata to tables\n",
    "base.metadata.create_all(engine)"
   ]
  },
  {
   "cell_type": "code",
   "execution_count": 7,
   "metadata": {},
   "outputs": [],
   "source": [
    "#insert data from csv into tables\n",
    "measurements.to_sql('measurements', engine, if_exists='append', index=False)\n",
    "stations.to_sql('stations', engine, if_exists='append', index=False)"
   ]
  },
  {
   "cell_type": "code",
   "execution_count": 8,
   "metadata": {},
   "outputs": [
    {
     "data": {
      "text/plain": [
       "[(1, 'USC00519397', '2010-01-01', 0.08, 65.0),\n",
       " (2, 'USC00519397', '2010-01-02', 0.0, 63.0),\n",
       " (3, 'USC00519397', '2010-01-03', 0.0, 74.0),\n",
       " (4, 'USC00519397', '2010-01-04', 0.0, 76.0),\n",
       " (5, 'USC00519397', '2010-01-07', 0.06, 70.0)]"
      ]
     },
     "execution_count": 8,
     "metadata": {},
     "output_type": "execute_result"
    }
   ],
   "source": [
    "#check to see data was added into measurements table\n",
    "conn.execute(\"select * from measurements\").fetchmany(5)"
   ]
  },
  {
   "cell_type": "code",
   "execution_count": 9,
   "metadata": {},
   "outputs": [
    {
     "data": {
      "text/plain": [
       "[(1, 'WAIKIKI 717.2, HI US', 'USC00519397', 21.2716, -157.8168, 3.0),\n",
       " (2, 'KANEOHE 838.1, HI US', 'USC00513117', 21.4234, -157.8015, 14.6),\n",
       " (3, 'KUALOA RANCH HEADQUARTERS 886.9, HI US', 'USC00514830', 21.5213, -157.8374, 7.0),\n",
       " (4, 'PEARL CITY, HI US', 'USC00517948', 21.3934, -157.9751, 11.9),\n",
       " (5, 'UPPER WAHIAWA 874.3, HI US', 'USC00518838', 21.4992, -158.0111, 306.6)]"
      ]
     },
     "execution_count": 9,
     "metadata": {},
     "output_type": "execute_result"
    }
   ],
   "source": [
    "#check to see data was added into measurements table\n",
    "conn.execute(\"select * from stations\").fetchmany(5)"
   ]
  },
  {
   "cell_type": "code",
   "execution_count": 10,
   "metadata": {},
   "outputs": [],
   "source": [
    "#session commit\n",
    "session = Session(bind=engine)\n",
    "session.commit()"
   ]
  },
  {
   "cell_type": "code",
   "execution_count": 11,
   "metadata": {
    "collapsed": true
   },
   "outputs": [],
   "source": [
    "# reflect an existing database into a new model\n",
    "Base = automap_base()\n",
    "# reflect the tables\n",
    "Base.prepare(engine, reflect=True)"
   ]
  },
  {
   "cell_type": "code",
   "execution_count": 12,
   "metadata": {},
   "outputs": [
    {
     "data": {
      "text/plain": [
       "['measurements', 'stations']"
      ]
     },
     "execution_count": 12,
     "metadata": {},
     "output_type": "execute_result"
    }
   ],
   "source": [
    "# We can view all of the classes that automap found\n",
    "Base.classes.keys()"
   ]
  },
  {
   "cell_type": "code",
   "execution_count": 13,
   "metadata": {
    "collapsed": true
   },
   "outputs": [],
   "source": [
    "# Save references to each table\n",
    "Measurements = Base.classes.measurements\n",
    "Stations = Base.classes.stations"
   ]
  },
  {
   "cell_type": "code",
   "execution_count": 14,
   "metadata": {
    "collapsed": true
   },
   "outputs": [],
   "source": [
    "# Create our session (link) from Python to the DB\n",
    "session = Session(engine)"
   ]
  },
  {
   "cell_type": "code",
   "execution_count": 15,
   "metadata": {},
   "outputs": [
    {
     "name": "stdout",
     "output_type": "stream",
     "text": [
      "id INTEGER\n",
      "station TEXT\n",
      "date DATE\n",
      "prcp FLOAT\n",
      "tobs FLOAT\n"
     ]
    }
   ],
   "source": [
    "#inspect column name and type within Measurement\n",
    "columns = inspect(engine).get_columns('Measurements')\n",
    "for column in columns:\n",
    "    print(column[\"name\"], column[\"type\"])"
   ]
  },
  {
   "cell_type": "code",
   "execution_count": 16,
   "metadata": {},
   "outputs": [
    {
     "name": "stdout",
     "output_type": "stream",
     "text": [
      "id INTEGER\n",
      "name TEXT\n",
      "station TEXT\n",
      "latitude FLOAT\n",
      "longitude FLOAT\n",
      "elevation FLOAT\n"
     ]
    }
   ],
   "source": [
    "#inspect column name and type within Station\n",
    "columns = inspect(engine).get_columns('Stations')\n",
    "for column in columns:\n",
    "    print(column[\"name\"], column[\"type\"])"
   ]
  },
  {
   "cell_type": "markdown",
   "metadata": {},
   "source": [
    "# Exploratory Climate Analysis"
   ]
  },
  {
   "cell_type": "markdown",
   "metadata": {},
   "source": [
    "## Precipitation Analysis"
   ]
  },
  {
   "cell_type": "code",
   "execution_count": 17,
   "metadata": {},
   "outputs": [
    {
     "data": {
      "text/plain": [
       "Text(43.725, 0.5, 'Precipitation')"
      ]
     },
     "execution_count": 17,
     "metadata": {},
     "output_type": "execute_result"
    },
    {
     "data": {
      "image/png": "[encoded data removed]",
      "text/plain": [
       "<Figure size 720x360 with 1 Axes>"
      ]
     },
     "metadata": {
      "needs_background": "light"
     },
     "output_type": "display_data"
    }
   ],
   "source": [
    "# Design a query to retrieve the last 12 months of precipitation data and plot the results\n",
    "most_current = session.query(Measurements.date).order_by(Measurements.date.desc()).first()\n",
    "last_date = most_current[0]\n",
    "last_year = last_date - dt.timedelta(days=365)\n",
    "#last_year\n",
    "\n",
    "# Calculate the date 1 year ago from the last data point in the database\n",
    "# Perform a query to retrieve the data and precipitation scores\n",
    "prcp_last_year = session.query(Measurements.date, Measurements.prcp).filter((Measurements.date>last_year)&(Measurements.date<last_date)).order_by(Measurements.date).all()\n",
    "        \n",
    "# Save the query results as a Pandas DataFrame and set the index to the date column\n",
    "prcp_df = pd.DataFrame(prcp_last_year,columns=['Date','Precipitation']).set_index('Date')\n",
    "#prcp_df\n",
    "\n",
    "# Use Pandas Plotting with Matplotlib to plot the data\n",
    "prcp_df.plot(figsize=(10,5))\n",
    "plt.tight_layout()\n",
    "plt.ylabel('Precipitation')"
   ]
  },
  {
   "cell_type": "code",
   "execution_count": 18,
   "metadata": {},
   "outputs": [
    {
     "data": {
      "text/html": [
       "<div>\n",
       "<style scoped>\n",
       "    .dataframe tbody tr th:only-of-type {\n",
       "        vertical-align: middle;\n",
       "    }\n",
       "\n",
       "    .dataframe tbody tr th {\n",
       "        vertical-align: top;\n",
       "    }\n",
       "\n",
       "    .dataframe thead th {\n",
       "        text-align: right;\n",
       "    }\n",
       "</style>\n",
       "<table border=\"1\" class=\"dataframe\">\n",
       "  <thead>\n",
       "    <tr style=\"text-align: right;\">\n",
       "      <th></th>\n",
       "      <th>Precipitation</th>\n",
       "    </tr>\n",
       "  </thead>\n",
       "  <tbody>\n",
       "    <tr>\n",
       "      <th>count</th>\n",
       "      <td>2011.000000</td>\n",
       "    </tr>\n",
       "    <tr>\n",
       "      <th>mean</th>\n",
       "      <td>0.176549</td>\n",
       "    </tr>\n",
       "    <tr>\n",
       "      <th>std</th>\n",
       "      <td>0.460667</td>\n",
       "    </tr>\n",
       "    <tr>\n",
       "      <th>min</th>\n",
       "      <td>0.000000</td>\n",
       "    </tr>\n",
       "    <tr>\n",
       "      <th>25%</th>\n",
       "      <td>0.000000</td>\n",
       "    </tr>\n",
       "    <tr>\n",
       "      <th>50%</th>\n",
       "      <td>0.020000</td>\n",
       "    </tr>\n",
       "    <tr>\n",
       "      <th>75%</th>\n",
       "      <td>0.130000</td>\n",
       "    </tr>\n",
       "    <tr>\n",
       "      <th>max</th>\n",
       "      <td>6.700000</td>\n",
       "    </tr>\n",
       "  </tbody>\n",
       "</table>\n",
       "</div>"
      ],
      "text/plain": [
       "       Precipitation\n",
       "count    2011.000000\n",
       "mean        0.176549\n",
       "std         0.460667\n",
       "min         0.000000\n",
       "25%         0.000000\n",
       "50%         0.020000\n",
       "75%         0.130000\n",
       "max         6.700000"
      ]
     },
     "execution_count": 18,
     "metadata": {},
     "output_type": "execute_result"
    }
   ],
   "source": [
    "# Use Pandas to calcualte the summary statistics for the precipitation data\n",
    "prcp_df.describe()"
   ]
  },
  {
   "cell_type": "code",
   "execution_count": 19,
   "metadata": {},
   "outputs": [
    {
     "data": {
      "text/plain": [
       "9"
      ]
     },
     "execution_count": 19,
     "metadata": {},
     "output_type": "execute_result"
    }
   ],
   "source": [
    "# Design a query to show how many stations are available in this dataset?\n",
    "number_stations = session.query(Stations.station).group_by(Stations.station).count()\n",
    "number_stations"
   ]
  },
  {
   "cell_type": "code",
   "execution_count": 20,
   "metadata": {},
   "outputs": [
    {
     "data": {
      "text/plain": [
       "[('USC00519281', 2772)]"
      ]
     },
     "execution_count": 20,
     "metadata": {},
     "output_type": "execute_result"
    }
   ],
   "source": [
    "# What are the most active stations? (i.e. what stations have the most rows)?\n",
    "# List the stations and the counts in descending order.\n",
    "most_active = session.query(Measurements.station,func.count(Measurements.prcp)).group_by(Measurements.station).order_by(func.count(Measurements.prcp).desc()).limit(1).all()\n",
    "most_active"
   ]
  },
  {
   "cell_type": "code",
   "execution_count": 21,
   "metadata": {},
   "outputs": [
    {
     "data": {
      "text/plain": [
       "[(54.0, 85.0, 71.66378066378067)]"
      ]
     },
     "execution_count": 21,
     "metadata": {},
     "output_type": "execute_result"
    }
   ],
   "source": [
    "# Using the station id from the previous query, calculate the lowest temperature recorded, \n",
    "# highest temperature recorded, and average temperature most active station?\n",
    "min_max_avg_tobs = session.query(func.min(Measurements.tobs), func.max(Measurements.tobs), func.avg(Measurements.tobs)).filter(Measurements.station == \"USC00519281\").all()\n",
    "min_max_avg_tobs"
   ]
  },
  {
   "cell_type": "code",
   "execution_count": 22,
   "metadata": {},
   "outputs": [
    {
     "data": {
      "text/plain": [
       "Text(0.5, 18.5, 'Temperature (F)')"
      ]
     },
     "execution_count": 22,
     "metadata": {},
     "output_type": "execute_result"
    },
    {
     "data": {
      "image/png": "[encoded data removed]",
      "text/plain": [
       "<Figure size 432x288 with 1 Axes>"
      ]
     },
     "metadata": {
      "needs_background": "light"
     },
     "output_type": "display_data"
    }
   ],
   "source": [
    "# Choose the station with the highest number of temperature observations.\n",
    "# Query the last 12 months of temperature observation data for this station and plot the results as a histogram\n",
    "most_tobs = session.query(Measurements.tobs).filter((Measurements.date>=last_year)&(Measurements.date<=last_date)).filter(Measurements.station==most_active[0][0]).all()\n",
    "\n",
    "tobs_df = pd.DataFrame(most_tobs,columns=['tobs'])\n",
    "tobs_df.plot.hist(bins=12)\n",
    "plt.tight_layout()\n",
    "plt.xlabel(\"Temperature (F)\")\n"
   ]
  },
  {
   "cell_type": "markdown",
   "metadata": {},
   "source": [
    "## Optional Challenge Assignment"
   ]
  },
  {
   "cell_type": "code",
   "execution_count": 23,
   "metadata": {},
   "outputs": [],
   "source": [
    "# This function called `calc_temps` will accept start date and end date in the format '%Y-%m-%d' \n",
    "# and return the minimum, average, and maximum temperatures for that range of dates\n",
    "# Use your previous function `calc_temps` to calculate the tmin, tavg, and tmax \n",
    "# for your trip using the previous year's data for those same dates.\n",
    "def calc_temps(start_date, end_date):\n",
    "    start_date = dt.datetime.strptime(start_date, '%Y-%m-%d').date()\n",
    "    end_date = dt.datetime.strptime(end_date, '%Y-%m-%d').date()\n",
    "    \n",
    "    min_temp = session.query(func.min(Measurements.tobs)).filter((Measurements.date>=start_date)&(Measurements.date<=end_date)).all()[0][0]\n",
    "    max_temp = session.query(func.max(Measurements.tobs)).filter((Measurements.date>=start_date)&(Measurements.date<=end_date)).all()[0][0]\n",
    "    avg_temp =  session.query(func.avg(Measurements.tobs)).filter((Measurements.date>=start_date)&(Measurements.date<=end_date)).all()[0][0]\n",
    "    \n",
    "    print(f'the min temp between {start_date} and {end_date} was {min_temp}')\n",
    "    print(f'the max temp between {start_date} and {end_date} was {max_temp}')\n",
    "    print(f'the average temp between {start_date} and {end_date} was {avg_temp}')\n",
    "    print(f'---------------------------------------------------------')\n",
    "    print(f'---------------------------------------------------------')\n",
    "    print(f'---------------------------------------------------------')\n",
    "    \n",
    "    start_minus_year = start_date - dt.timedelta(days=365)\n",
    "    end_minus_year = end_date - dt.timedelta(days=365)\n",
    "    \n",
    "    tmin = session.query(func.min(Measurements.tobs)).filter((Measurements.date>=start_minus_year)&(Measurements.date<=end_minus_year)).all()[0][0]\n",
    "    tmax = session.query(func.max(Measurements.tobs)).filter((Measurements.date>=start_minus_year)&(Measurements.date<=end_minus_year)).all()[0][0]\n",
    "    tavg =  session.query(func.avg(Measurements.tobs)).filter((Measurements.date>=start_minus_year)&(Measurements.date<=end_minus_year)).all()[0][0]\n",
    "\n",
    "    # Plot the results from your previous query as a bar chart. \n",
    "    # Use \"Trip Avg Temp\" as your Title\n",
    "    # Use the average temperature for the y value\n",
    "    # Use the peak-to-peak (tmax-tmin) value as the y error bar (yerr)\n",
    "\n",
    "    calc_temps_df = pd.DataFrame([(tavg)],columns=['Average Temp'])\n",
    "    calc_temps_df.plot.bar(yerr=(tmax-tmin),alpha=0.5, color='orange', width=.5)\n",
    "    plt.title(\"Trip Avg Temp(Previous Year)\")\n",
    "    plt.ylabel(\"Avg Temp (F)\")\n",
    "    plt.grid(b=None, axis='x')"
   ]
  },
  {
   "cell_type": "code",
   "execution_count": 24,
   "metadata": {},
   "outputs": [
    {
     "name": "stdout",
     "output_type": "stream",
     "text": [
      "the min temp between 2017-07-01 and 2017-07-24 was 69.0\n",
      "the max temp between 2017-07-01 and 2017-07-24 was 83.0\n",
      "the average temp between 2017-07-01 and 2017-07-24 was 78.07462686567165\n",
      "---------------------------------------------------------\n",
      "---------------------------------------------------------\n",
      "---------------------------------------------------------\n"
     ]
    },
    {
     "data": {
      "image/png": "[encoded data removed]",
      "text/plain": [
       "<Figure size 432x288 with 1 Axes>"
      ]
     },
     "metadata": {
      "needs_background": "light"
     },
     "output_type": "display_data"
    }
   ],
   "source": [
    "calc_temps('2017-07-01', '2017-07-24')"
   ]
  },
  {
   "cell_type": "code",
   "execution_count": null,
   "metadata": {},
   "outputs": [],
   "source": []
  }
 ],
 "metadata": {
  "kernel_info": {
   "name": "python3"
  },
  "kernelspec": {
   "display_name": "Python 3",
   "language": "python",
   "name": "python3"
  },
  "language_info": {
   "codemirror_mode": {
    "name": "ipython",
    "version": 3
   },
   "file_extension": ".py",
   "mimetype": "text/x-python",
   "name": "python",
   "nbconvert_exporter": "python",
   "pygments_lexer": "ipython3",
   "version": "3.7.2"
  },
  "nteract": {
   "version": "0.12.3"
  },
  "varInspector": {
   "cols": {
    "lenName": 16,
    "lenType": 16,
    "lenVar": 40
   },
   "kernels_config": {
    "python": {
     "delete_cmd_postfix": "",
     "delete_cmd_prefix": "del ",
     "library": "var_list.py",
     "varRefreshCmd": "print(var_dic_list())"
    },
    "r": {
     "delete_cmd_postfix": ") ",
     "delete_cmd_prefix": "rm(",
     "library": "var_list.r",
     "varRefreshCmd": "cat(var_dic_list()) "
    }
   },
   "types_to_exclude": [
    "module",
    "function",
    "builtin_function_or_method",
    "instance",
    "_Feature"
   ],
   "window_display": false
  }
 },
 "nbformat": 4,
 "nbformat_minor": 2
}
